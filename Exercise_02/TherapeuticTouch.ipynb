{
 "cells": [
  {
   "cell_type": "code",
   "execution_count": 1,
   "metadata": {},
   "outputs": [],
   "source": [
    "import pandas as pd\n",
    "import numpy as np\n",
    "import pymc3 as pm\n",
    "import matplotlib.pyplot as plt"
   ]
  },
  {
   "cell_type": "markdown",
   "metadata": {},
   "source": [
    "# Load data"
   ]
  },
  {
   "cell_type": "code",
   "execution_count": 14,
   "metadata": {},
   "outputs": [
    {
     "data": {
      "text/html": [
       "<div>\n",
       "<style scoped>\n",
       "    .dataframe tbody tr th:only-of-type {\n",
       "        vertical-align: middle;\n",
       "    }\n",
       "\n",
       "    .dataframe tbody tr th {\n",
       "        vertical-align: top;\n",
       "    }\n",
       "\n",
       "    .dataframe thead th {\n",
       "        text-align: right;\n",
       "    }\n",
       "</style>\n",
       "<table border=\"1\" class=\"dataframe\">\n",
       "  <thead>\n",
       "    <tr style=\"text-align: right;\">\n",
       "      <th></th>\n",
       "      <th>0</th>\n",
       "      <th>1</th>\n",
       "      <th>2</th>\n",
       "      <th>3</th>\n",
       "      <th>4</th>\n",
       "      <th>5</th>\n",
       "      <th>6</th>\n",
       "      <th>7</th>\n",
       "      <th>8</th>\n",
       "      <th>9</th>\n",
       "      <th>...</th>\n",
       "      <th>270</th>\n",
       "      <th>271</th>\n",
       "      <th>272</th>\n",
       "      <th>273</th>\n",
       "      <th>274</th>\n",
       "      <th>275</th>\n",
       "      <th>276</th>\n",
       "      <th>277</th>\n",
       "      <th>278</th>\n",
       "      <th>279</th>\n",
       "    </tr>\n",
       "  </thead>\n",
       "  <tbody>\n",
       "    <tr>\n",
       "      <th>y</th>\n",
       "      <td>1</td>\n",
       "      <td>0</td>\n",
       "      <td>0</td>\n",
       "      <td>0</td>\n",
       "      <td>0</td>\n",
       "      <td>0</td>\n",
       "      <td>0</td>\n",
       "      <td>0</td>\n",
       "      <td>0</td>\n",
       "      <td>0</td>\n",
       "      <td>...</td>\n",
       "      <td>1</td>\n",
       "      <td>1</td>\n",
       "      <td>1</td>\n",
       "      <td>1</td>\n",
       "      <td>0</td>\n",
       "      <td>1</td>\n",
       "      <td>1</td>\n",
       "      <td>1</td>\n",
       "      <td>0</td>\n",
       "      <td>1</td>\n",
       "    </tr>\n",
       "    <tr>\n",
       "      <th>s</th>\n",
       "      <td>S01</td>\n",
       "      <td>S01</td>\n",
       "      <td>S01</td>\n",
       "      <td>S01</td>\n",
       "      <td>S01</td>\n",
       "      <td>S01</td>\n",
       "      <td>S01</td>\n",
       "      <td>S01</td>\n",
       "      <td>S01</td>\n",
       "      <td>S01</td>\n",
       "      <td>...</td>\n",
       "      <td>S28</td>\n",
       "      <td>S28</td>\n",
       "      <td>S28</td>\n",
       "      <td>S28</td>\n",
       "      <td>S28</td>\n",
       "      <td>S28</td>\n",
       "      <td>S28</td>\n",
       "      <td>S28</td>\n",
       "      <td>S28</td>\n",
       "      <td>S28</td>\n",
       "    </tr>\n",
       "  </tbody>\n",
       "</table>\n",
       "<p>2 rows × 280 columns</p>\n",
       "</div>"
      ],
      "text/plain": [
       "   0    1    2    3    4    5    6    7    8    9   ...   270  271  272  273  \\\n",
       "y    1    0    0    0    0    0    0    0    0    0 ...     1    1    1    1   \n",
       "s  S01  S01  S01  S01  S01  S01  S01  S01  S01  S01 ...   S28  S28  S28  S28   \n",
       "\n",
       "   274  275  276  277  278  279  \n",
       "y    0    1    1    1    0    1  \n",
       "s  S28  S28  S28  S28  S28  S28  \n",
       "\n",
       "[2 rows x 280 columns]"
      ]
     },
     "execution_count": 14,
     "metadata": {},
     "output_type": "execute_result"
    }
   ],
   "source": [
    "observations = pd.read_csv('TherapeuticTouchData.csv')\n",
    "observations.T"
   ]
  },
  {
   "cell_type": "code",
   "execution_count": 3,
   "metadata": {},
   "outputs": [
    {
     "name": "stdout",
     "output_type": "stream",
     "text": [
      "[1 0 0 0 0 0 0 0 0 0 0 0 0 1 0 0 1 0 0 0 0 0 0 0 0 1 0 0 1 1 0 1 1 0 1 0 0\n",
      " 0 0 0 0 1 0 0 0 1 0 0 1 0 0 0 0 1 1 0 0 0 1 0 0 0 1 0 0 1 1 0 0 0 0 1 1 0\n",
      " 0 1 0 0 0 0 1 0 1 0 0 0 0 0 1 0 0 1 0 0 0 0 1 0 1 0 0 1 0 1 0 0 0 1 1 0 0\n",
      " 1 0 0 0 0 0 1 1 1 1 0 1 1 1 0 0 0 0 0 0 0 0 0 0 0 1 1 1 1 1 0 0 1 0 0 0 1\n",
      " 1 0 0 1 1 1 0 0 0 1 0 1 0 1 1 0 1 0 0 1 0 1 1 1 0 1 1 0 1 0 0 0 1 0 1 1 1\n",
      " 1 0 0 0 0 0 0 1 0 1 1 1 0 0 1 1 0 0 1 1 1 0 0 1 0 0 1 1 0 0 1 0 1 1 0 1 1\n",
      " 1 0 0 0 1 1 1 0 1 0 0 1 1 1 0 0 1 1 1 0 0 1 0 1 1 1 1 1 1 1 1 1 1 0 1 0 0\n",
      " 1 0 0 1 1 1 0 1 1 1 1 1 1 1 1 0 1 1 1 0 1]\n",
      "280\n",
      "123\n"
     ]
    }
   ],
   "source": [
    "# Load the complete data ignoring participants\n",
    "all_obs = observations['y'].values\n",
    "print(all_obs)\n",
    "print(len(all_obs))\n",
    "print(sum(all_obs))"
   ]
  },
  {
   "cell_type": "markdown",
   "metadata": {},
   "source": [
    "# Independed Measures\n",
    "Assume measures to be indepeded of each other (280 repeated measures).\n",
    "\n",
    "Try to model the observed data using a Bernoulli distribution, and use pymc3 to estimate the p value of the distribution."
   ]
  },
  {
   "cell_type": "code",
   "execution_count": 4,
   "metadata": {},
   "outputs": [],
   "source": [
    "with pm.Model() as coin_model: \n",
    "    p_prior = pm.Uniform('p', 0, 1)  \n",
    "    \n",
    "    # Specify likelihood using Bernoulli object.\n",
    "    like = pm.Bernoulli('likelihood', p=p_prior, observed=all_obs)\n",
    "    model_samples = pm.sample(2000)"
   ]
  },
  {
   "cell_type": "code",
   "execution_count": 6,
   "metadata": {},
   "outputs": [
    {
     "name": "stdout",
     "output_type": "stream",
     "text": [
      "Distribution [0.42 , (0.44) , 0.46]\n"
     ]
    },
    {
     "data": {
      "image/png": "[encoded data removed]",
      "text/plain": [
       "<Figure size 720x288 with 1 Axes>"
      ]
     },
     "metadata": {},
     "output_type": "display_data"
    }
   ],
   "source": [
    "# Show the distribution of samples, in relation to the null hypothesis (p = 0.5)\n",
    "q25 = np.percentile(model_samples.get_values('p'), 25)\n",
    "q50 = np.percentile(model_samples.get_values('p'), 50)\n",
    "q75 = np.percentile(model_samples.get_values('p'), 75)\n",
    "print('Distribution [%2.2f , (%2.2f) , %2.2f]' % (q25, q50, q75))\n",
    "\n",
    "pm.plot_posterior(model_samples, color='#52BFDC', rope=[np.round(q25, 2), np.round(q75, 2)], point_estimate='mean', ref_val=0.5, figsize=(10,4))\n",
    "plt.show()"
   ]
  },
  {
   "cell_type": "markdown",
   "metadata": {},
   "source": [
    "## Discussion\n",
    "Assuming all trials beeing independed of each other (repeated meassures), the above plot shows that the data can be best explained by a Bernoulli distribution with a p = 0.439.\n",
    "\n",
    "The null hypothesis (green line) that the practicionairs are as good as chance is therfore very unlikely (less than 2.5%).\n",
    "\n",
    "Aka: Meaning that they beform much worse than random guessing??"
   ]
  },
  {
   "cell_type": "markdown",
   "metadata": {},
   "source": [
    "# Results by subject\n",
    "In this section, we will look at the result distribution by subjects, looking at the number of correct answers for each subject.\n",
    "\n",
    "There are 1024 (2 ** 10) sequences of correct and wrong results. If all of them are equally likely, throwing 8 out of 10 (binominal coefficient sp.special.binom(10, 8) = 45 , 45 / 1024 = 0.0439453125 . Corresponing to a chance of less than 5% to be a random coinsidance. \n",
    "\n",
    "The experimentor therefor labes successfull practicioners (those being able to sense 'human energy fields') as such that success in at least 8 out of 10 trials."
   ]
  },
  {
   "cell_type": "code",
   "execution_count": 13,
   "metadata": {},
   "outputs": [
    {
     "data": {
      "text/html": [
       "<div>\n",
       "<style scoped>\n",
       "    .dataframe tbody tr th:only-of-type {\n",
       "        vertical-align: middle;\n",
       "    }\n",
       "\n",
       "    .dataframe tbody tr th {\n",
       "        vertical-align: top;\n",
       "    }\n",
       "\n",
       "    .dataframe thead th {\n",
       "        text-align: right;\n",
       "    }\n",
       "</style>\n",
       "<table border=\"1\" class=\"dataframe\">\n",
       "  <thead>\n",
       "    <tr style=\"text-align: right;\">\n",
       "      <th>s</th>\n",
       "      <th>S01</th>\n",
       "      <th>S02</th>\n",
       "      <th>S03</th>\n",
       "      <th>S04</th>\n",
       "      <th>S05</th>\n",
       "      <th>S06</th>\n",
       "      <th>S07</th>\n",
       "      <th>S08</th>\n",
       "      <th>S09</th>\n",
       "      <th>S10</th>\n",
       "      <th>...</th>\n",
       "      <th>S19</th>\n",
       "      <th>S20</th>\n",
       "      <th>S21</th>\n",
       "      <th>S22</th>\n",
       "      <th>S23</th>\n",
       "      <th>S24</th>\n",
       "      <th>S25</th>\n",
       "      <th>S26</th>\n",
       "      <th>S27</th>\n",
       "      <th>S28</th>\n",
       "    </tr>\n",
       "  </thead>\n",
       "  <tbody>\n",
       "    <tr>\n",
       "      <th>y</th>\n",
       "      <td>1</td>\n",
       "      <td>2</td>\n",
       "      <td>3</td>\n",
       "      <td>3</td>\n",
       "      <td>3</td>\n",
       "      <td>3</td>\n",
       "      <td>3</td>\n",
       "      <td>3</td>\n",
       "      <td>3</td>\n",
       "      <td>3</td>\n",
       "      <td>...</td>\n",
       "      <td>5</td>\n",
       "      <td>5</td>\n",
       "      <td>5</td>\n",
       "      <td>5</td>\n",
       "      <td>6</td>\n",
       "      <td>6</td>\n",
       "      <td>7</td>\n",
       "      <td>7</td>\n",
       "      <td>7</td>\n",
       "      <td>8</td>\n",
       "    </tr>\n",
       "  </tbody>\n",
       "</table>\n",
       "<p>1 rows × 28 columns</p>\n",
       "</div>"
      ],
      "text/plain": [
       "s  S01  S02  S03  S04  S05  S06  S07  S08  S09  S10 ...   S19  S20  S21  S22  \\\n",
       "y    1    2    3    3    3    3    3    3    3    3 ...     5    5    5    5   \n",
       "\n",
       "s  S23  S24  S25  S26  S27  S28  \n",
       "y    6    6    7    7    7    8  \n",
       "\n",
       "[1 rows x 28 columns]"
      ]
     },
     "execution_count": 13,
     "metadata": {},
     "output_type": "execute_result"
    }
   ],
   "source": [
    "bysubject = observations.groupby('s').sum()\n",
    "bysubject.T"
   ]
  },
  {
   "cell_type": "code",
   "execution_count": 5,
   "metadata": {},
   "outputs": [
    {
     "data": {
      "image/png": "[encoded data removed]",
      "text/plain": [
       "<Figure size 432x288 with 1 Axes>"
      ]
     },
     "metadata": {},
     "output_type": "display_data"
    }
   ],
   "source": [
    "# Print distribution of successfull answers\n",
    "bysubject.hist()\n",
    "plt.show()"
   ]
  },
  {
   "cell_type": "markdown",
   "metadata": {},
   "source": [
    "## Modeling\n",
    "Assume the data can be modeld using a Poisson distribution with a mean between 1 and 10.\n",
    "use MCMC to estimate the distribution mean for given data."
   ]
  },
  {
   "cell_type": "code",
   "execution_count": 17,
   "metadata": {},
   "outputs": [
    {
     "name": "stderr",
     "output_type": "stream",
     "text": [
      "logp = -60.282, ||grad|| = 12.682: 100%|██████████| 7/7 [00:00<00:00, 2132.18it/s]\n",
      "Multiprocess sampling (4 chains in 4 jobs)\n",
      "Metropolis: [mu_interval__]\n",
      "100%|██████████| 200500/200500 [00:35<00:00, 5570.57it/s]\n",
      "The number of effective samples is smaller than 25% for some parameters.\n"
     ]
    }
   ],
   "source": [
    "with pm.Model() as coin_model: \n",
    "    mu_prior = pm.Uniform('mu', 1, 10)  \n",
    "    \n",
    "    # Specify likelihood using Poission distribution\n",
    "    like = pm.Poisson('likelihood', mu=mu_prior, observed=bysubject)\n",
    "    \n",
    "    start = pm.find_MAP()\n",
    "    step = pm.Metropolis()\n",
    "    model_samples = pm.sample(200000, step, start=start, progressbar=True)"
   ]
  },
  {
   "cell_type": "code",
   "execution_count": 19,
   "metadata": {},
   "outputs": [
    {
     "data": {
      "image/png": "[encoded data removed]",
      "text/plain": [
       "<Figure size 720x288 with 1 Axes>"
      ]
     },
     "metadata": {},
     "output_type": "display_data"
    }
   ],
   "source": [
    "# Show the distribution of samples, in relation to the null hypothesis (mu = 8)\n",
    "q25 = np.percentile(model_samples.get_values('mu'), 25)\n",
    "q50 = np.percentile(model_samples.get_values('mu'), 50)\n",
    "q75 = np.percentile(model_samples.get_values('mu'), 75)\n",
    "\n",
    "\n",
    "pm.plot_posterior(model_samples, color='#52BFDC', rope=[np.round(q25, 2), np.round(q75, 2)], point_estimate='mean', ref_val=8, figsize=(10,4))\n",
    "plt.show()"
   ]
  },
  {
   "cell_type": "markdown",
   "metadata": {},
   "source": [
    "# Discussion\n",
    "The above plot showes a poission distribution best fitting the given results per subjects.\n",
    "It shows that on average a subject is able to provide the correct answer in 4.429 out of 10 cases.\n",
    "\n",
    "Assuming that an *real* TT practitioner would be able to on average respond correctly in 8 out of 10 cases, the\n",
    "data shows clearly that the test participants are not part of that group."
   ]
  },
  {
   "cell_type": "markdown",
   "metadata": {},
   "source": [
    "# Conclution\n",
    "Both analysis (independed meassures, and by subjects) show that the test participants where unable to sense a 'human energy field'\n",
    "\n",
    "In case of the independed meassures the data shows that the participants are performing most likly worse than random guessing, but the by subjects analysis shows, that give the data there is no chance that they are able to practise TT."
   ]
  }
 ],
 "metadata": {
  "kernelspec": {
   "display_name": "Python 3",
   "language": "python",
   "name": "python3"
  },
  "language_info": {
   "codemirror_mode": {
    "name": "ipython",
    "version": 3
   },
   "file_extension": ".py",
   "mimetype": "text/x-python",
   "name": "python",
   "nbconvert_exporter": "python",
   "pygments_lexer": "ipython3",
   "version": "3.6.3"
  }
 },
 "nbformat": 4,
 "nbformat_minor": 2
}
